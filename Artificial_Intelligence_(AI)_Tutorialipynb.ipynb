{
  "nbformat": 4,
  "nbformat_minor": 0,
  "metadata": {
    "colab": {
      "provenance": [],
      "authorship_tag": "ABX9TyMlIRWAJb0gkFL7gvjk3dhq",
      "include_colab_link": true
    },
    "kernelspec": {
      "name": "python3",
      "display_name": "Python 3"
    },
    "language_info": {
      "name": "python"
    }
  },
  "cells": [
    {
      "cell_type": "markdown",
      "metadata": {
        "id": "view-in-github",
        "colab_type": "text"
      },
      "source": [
        "<a href=\"https://colab.research.google.com/github/ayhanbzkrt/Artificial-Intelligence-AI-Tutorial/blob/main/Artificial_Intelligence_(AI)_Tutorialipynb.ipynb\" target=\"_parent\"><img src=\"https://colab.research.google.com/assets/colab-badge.svg\" alt=\"Open In Colab\"/></a>"
      ]
    },
    {
      "cell_type": "markdown",
      "source": [
        "# 🍬Artificial Intelligence (AI) Tutorial\n",
        "\n",
        "\n",
        "## Table of Contents\n",
        "- [Introduction](#introduction)\n",
        "  - [What is Artificial Intelligence?](#what-is-artificial-intelligence)\n",
        "- [Difference between AI and Machine Learning](#difference-between-ai-and-machine-learning)\n",
        "- [Core Concepts in AI](#core-concepts-in-ai)\n",
        "  - [Neural Networks](#neural-networks)\n",
        "  - [Deep Learning](#deep-learning)\n",
        "  - [Reinforcement Learning](#reinforcement-learning)\n",
        "- [Applications of AI](#applications-of-ai)\n",
        "  - [Natural Language Processing](#natural-language-processing)\n",
        "  - [Computer Vision](#computer-vision)\n",
        "  - [Gaming](#gaming)\n",
        "  - [Medical Diagnosis](#medical-diagnosis)\n",
        "- [Advantages and Limitations of AI](#advantages-and-limitations-of-ai)\n",
        "- [Popular AI Algorithms](#popular-ai-algorithms)\n",
        "- [Future of AI](#future-of-ai)\n",
        "- [Hands-on Examples and Tutorials](#hands-on-examples-and-tutorials)\n",
        "\n",
        "## Introduction\n",
        "\n",
        "### What is Artificial Intelligence?\n",
        "\n",
        "Artificial Intelligence is a branch of computer science aiming to build machines that can simulate human-like cognitive functions such as learning, reasoning, problem-solving, and decision-making.\n",
        "\n",
        "## Difference between AI and Machine Learning\n",
        "\n",
        "- **Definition:** AI is the broader concept of machines being able to carry out tasks in a way that we would consider “smart”. Machine Learning is a subset of AI, where machines can learn from data.\n",
        "\n",
        "- **Scope:** AI has a broader scope encompassing anything that allows computers to mimic human intelligence, including robotics, natural language processing, and problem-solving. Machine Learning focuses on statistical techniques allowing machines to improve tasks with experience.\n",
        "\n",
        "## Core Concepts in AI\n",
        "\n",
        "### Neural Networks\n",
        "Multi-layered structures inspired by the human brain to process data and extract patterns.\n",
        "\n",
        "### Deep Learning\n",
        "A subset of ML, deep learning uses large neural networks with many layers to analyze various factors of data.\n",
        "\n",
        "### Reinforcement Learning\n",
        "An area of ML where agents learn how to behave in an environment by performing certain actions and receiving rewards or penalties in return.\n",
        "\n",
        "## Applications of AI\n",
        "\n",
        "### Natural Language Processing\n",
        "Enables machines to understand and respond in human language.\n",
        "\n",
        "### Computer Vision\n",
        "Gives machines the ability to visually interpret the world around them.\n",
        "\n",
        "### Gaming\n",
        "Implementing AI in strategic games like Chess or Go to simulate human-like opponents.\n",
        "\n",
        "### Medical Diagnosis\n",
        "Automatically identifying diseases based on medical images and patient data.\n",
        "\n",
        "## Advantages and Limitations of AI\n",
        "\n",
        "- **Advantages:** Speed in data processing, automation, error reduction, capability to work with large data sets.\n",
        "\n",
        "- **Limitations:** Lack of emotional intelligence, can be expensive, often act as a \"black box\" making it hard to understand how they derive specific outputs.\n",
        "\n",
        "## Popular AI Algorithms\n",
        "\n",
        "- **Decision Trees:** Used in classification and regression tasks.\n",
        "  \n",
        "- **Neural Networks:** Useful for pattern recognition.\n",
        "\n",
        "- **Naive Bayes:** Applied for classification tasks, especially in NLP.\n",
        "\n",
        "## Future of AI\n",
        "\n",
        "Discussing trends like quantum computing, AI in healthcare, ethical considerations, etc.\n",
        "\n",
        "## Hands-on Examples and Tutorials\n",
        "\n",
        "Providing real-world coding examples and tutorials for readers to grasp the practical aspects of AI.\n",
        "\n"
      ],
      "metadata": {
        "id": "GPkZeat-WgpW"
      }
    },
    {
      "cell_type": "markdown",
      "source": [
        "#⚡ Alright! Let's start with the first topic:\n",
        "\n",
        "\n",
        "Introduction\n",
        "\n",
        "**What is Artificial Intelligence?**\n",
        "\n",
        "Artificial Intelligence (AI) is a field within computer science that aims to create systems capable of performing tasks that usually require human intelligence. These tasks include problem-solving, pattern recognition, planning, and more. At its core, AI is about mimicking human thought processes.\n",
        "\n",
        "\n",
        "**Example:**\n",
        "\n",
        "Imagine Siri or Google Assistant. When you ask a question, they process your voice, understand the question, and then provide an answer. This ability to \"understand\" and \"respond\" is a result of artificial intelligence algorithms working in the background.\n",
        "\n",
        "\n"
      ],
      "metadata": {
        "id": "yrRPdHKoWh1o"
      }
    },
    {
      "cell_type": "code",
      "source": [
        "# Pseudo-code for a basic AI-driven voice assistant\n",
        "def voice_assistant(input_voice):\n",
        "    text = convert_voice_to_text(input_voice)\n",
        "    answer = process_question(text)\n",
        "    return convert_text_to_voice(answer)\n"
      ],
      "metadata": {
        "id": "UZAgmuVAYjeh"
      },
      "execution_count": 1,
      "outputs": []
    },
    {
      "cell_type": "markdown",
      "source": [
        "This pseudo-code demonstrates a high-level flow of how voice assistants might use AI to convert voice input to a response."
      ],
      "metadata": {
        "id": "Rt_AyLLsYqQT"
      }
    },
    {
      "cell_type": "markdown",
      "source": [
        "#🐦 Difference between AI and Machine Learning\n",
        "\n",
        "AI is the broader concept of machines performing tasks in ways that mimic human intelligence. Machine Learning (ML), on the other hand, is a subset of AI, where machines learn from data without being explicitly programmed.\n",
        "\n",
        "\n",
        "**Example:**\n",
        "An email spam filter. Traditional programming might use a set of hardcoded rules to filter out spam. In contrast, a machine learning-based approach would learn from a dataset of spam and non-spam emails to make this distinction.\n"
      ],
      "metadata": {
        "id": "YJpxbRmRYspn"
      }
    },
    {
      "cell_type": "code",
      "source": [
        "# Pseudo-code for a basic ML-driven spam filter\n",
        "def is_spam(email, trained_model):\n",
        "    prediction = trained_model.predict(email)\n",
        "    if prediction == \"spam\":\n",
        "        return True\n",
        "    else:\n",
        "        return False\n"
      ],
      "metadata": {
        "id": "-VwiAm01ZM0X"
      },
      "execution_count": 2,
      "outputs": []
    },
    {
      "cell_type": "markdown",
      "source": [
        "This pseudo-code gives an idea of how ML models predict based on prior training, rather than relying on hardcoded rules."
      ],
      "metadata": {
        "id": "LqkmP3VUZRZE"
      }
    },
    {
      "cell_type": "markdown",
      "source": [
        "#✨ Core Concepts in AI\n",
        "\n",
        "\n",
        "# Neural Networks\n",
        "\n",
        "Neural Networks are computational models inspired by the way the human brain operates. They consist of layers of interconnected nodes or \"neurons\" that process data and learn patterns through a series of transformations.\n",
        "\n",
        "\n",
        "\n",
        "**Example:**\n",
        "\n",
        "Consider image recognition. Neural networks can be trained to identify objects within images by recognizing patterns and features unique to each object."
      ],
      "metadata": {
        "id": "lVq98c_MZcTq"
      }
    },
    {
      "cell_type": "code",
      "source": [
        "# Pseudo-code for a basic Neural Network processing an image\n",
        "def neural_network(image, trained_model):\n",
        "    features = extract_features_from_image(image)\n",
        "    prediction = trained_model.predict(features)\n",
        "    return prediction\n"
      ],
      "metadata": {
        "id": "mWfrd6I2aAX5"
      },
      "execution_count": 3,
      "outputs": []
    },
    {
      "cell_type": "markdown",
      "source": [
        "This pseudo-code provides a simplified view of how neural networks might process image data to make predictions."
      ],
      "metadata": {
        "id": "O2p3mFdeaEY2"
      }
    },
    {
      "cell_type": "markdown",
      "source": [
        "\n",
        "# Deep Learning\n",
        "\n",
        "Deep Learning is essentially an advanced form of neural networks. It uses large networks with many layers (hence \"deep\") to analyze and extract intricate patterns from data. This is especially useful for tasks like speech recognition or complex image analysis.\n",
        "\n",
        "\n",
        "**Example:** Consider facial recognition. Deep learning models can identify a person by analyzing minute details and features of their face."
      ],
      "metadata": {
        "id": "V56o63O5aQCy"
      }
    },
    {
      "cell_type": "code",
      "source": [
        "# Pseudo-code for Deep Learning facial recognition\n",
        "def deep_learning_face_recognition(image, trained_model):\n",
        "    facial_features = extract_detailed_features_from_face(image)\n",
        "    identity = trained_model.predict(facial_features)\n",
        "    return identity\n"
      ],
      "metadata": {
        "id": "hhdnFnhdaXgJ"
      },
      "execution_count": 4,
      "outputs": []
    },
    {
      "cell_type": "markdown",
      "source": [
        "This pseudo-code illustrates how deep learning might extract detailed features from a face to recognize its identity."
      ],
      "metadata": {
        "id": "2ORtFqsUaagL"
      }
    },
    {
      "cell_type": "markdown",
      "source": [
        "# Reinforcement Learning\n",
        "\n",
        "Reinforcement Learning (RL) is an area within machine learning where agents learn by interacting with an environment. The agent takes actions based on its current state, and after each action, it receives a reward or penalty, helping it learn over time.\n",
        "\n",
        "\n",
        "**Example:** Think of a game where an AI agent learns to play. Over time, by trial and error, it understands which moves increase its score (reward) and which ones decrease it (penalty)."
      ],
      "metadata": {
        "id": "QsNri1SDad5V"
      }
    },
    {
      "cell_type": "code",
      "source": [
        "# Pseudo-code for basic Reinforcement Learning in a game\n",
        "def play_game(agent, environment):\n",
        "    state = environment.initial_state()\n",
        "    while not state.is_final():\n",
        "        action = agent.choose_action(state)\n",
        "        next_state, reward = environment.perform_action(action)\n",
        "        agent.learn_from_experience(state, action, reward, next_state)\n",
        "        state = next_state\n"
      ],
      "metadata": {
        "id": "3w6BkM0Danbw"
      },
      "execution_count": 5,
      "outputs": []
    },
    {
      "cell_type": "markdown",
      "source": [
        "This pseudo-code outlines a basic flow where an RL agent interacts with a game environment, learning from its actions and outcomes."
      ],
      "metadata": {
        "id": "Ix4P8wvkaqQ6"
      }
    },
    {
      "cell_type": "markdown",
      "source": [
        "# Examples:\n",
        "\n",
        "\n",
        "**Neural Networks**"
      ],
      "metadata": {
        "id": "5M-QiKwbaux7"
      }
    },
    {
      "cell_type": "markdown",
      "source": [
        "# Let's say we have a very simplified neural network model that classifies whether an image is of a cat or not. After processing an image, it provides a prediction."
      ],
      "metadata": {
        "id": "T0-QSTDsa6gL"
      }
    },
    {
      "cell_type": "code",
      "source": [
        "def simple_neural_network(image):\n",
        "    # For the sake of this example, let's assume a logic that if average pixel value is above some threshold, it's a cat\n",
        "    avg_pixel_value = sum(image) / len(image)\n",
        "    threshold = 127  # Just an arbitrary threshold for this example\n",
        "    if avg_pixel_value > threshold:\n",
        "        return \"It's a cat!\"\n",
        "    else:\n",
        "        return \"It's not a cat.\"\n",
        "\n",
        "# Testing our pseudo neural network\n",
        "image_data = [120, 130, 125, 140]  # Representing pixel values\n",
        "print(simple_neural_network(image_data))\n"
      ],
      "metadata": {
        "colab": {
          "base_uri": "https://localhost:8080/"
        },
        "id": "38JG0Ay2a88B",
        "outputId": "0daea8da-0bf5-48ea-b7ac-258850dfe392"
      },
      "execution_count": 6,
      "outputs": [
        {
          "output_type": "stream",
          "name": "stdout",
          "text": [
            "It's a cat!\n"
          ]
        }
      ]
    },
    {
      "cell_type": "markdown",
      "source": [
        "Output: It's a cat!"
      ],
      "metadata": {
        "id": "qPuq7EvobBln"
      }
    },
    {
      "cell_type": "markdown",
      "source": [
        "**Deep Learning**\n",
        "\n"
      ],
      "metadata": {
        "id": "E-TfV_ZdbHyF"
      }
    },
    {
      "cell_type": "markdown",
      "source": [
        "# For facial recognition, a deep learning model can differentiate faces by analyzing detailed features."
      ],
      "metadata": {
        "id": "l_NLrUaubPuH"
      }
    },
    {
      "cell_type": "code",
      "source": [
        "def deep_learning_face_recognition(image):\n",
        "    # Let's assume a logic that if a certain pixel pattern is identified, it recognizes the face\n",
        "    if image[0] == 255 and image[1] == 0:\n",
        "        return \"Face recognized: John Doe\"\n",
        "    else:\n",
        "        return \"Face not recognized\"\n",
        "\n",
        "# Testing our pseudo deep learning model\n",
        "image_data = [255, 0, 255, 0]  # Representing pixel patterns\n",
        "print(deep_learning_face_recognition(image_data))\n"
      ],
      "metadata": {
        "colab": {
          "base_uri": "https://localhost:8080/"
        },
        "id": "qRKmXUfpbjKz",
        "outputId": "09596bc7-92b4-4318-c9c6-245622f40bc5"
      },
      "execution_count": 7,
      "outputs": [
        {
          "output_type": "stream",
          "name": "stdout",
          "text": [
            "Face recognized: John Doe\n"
          ]
        }
      ]
    },
    {
      "cell_type": "markdown",
      "source": [
        "Output: Face recognized: John Doe"
      ],
      "metadata": {
        "id": "0eBYWXpjbmP2"
      }
    },
    {
      "cell_type": "markdown",
      "source": [
        "**Reinforcement Learning**"
      ],
      "metadata": {
        "id": "OXMaiS1mbpWM"
      }
    },
    {
      "cell_type": "markdown",
      "source": [
        "# An agent trying to find the best path in a maze game."
      ],
      "metadata": {
        "id": "Ya__HRAmbtGa"
      }
    },
    {
      "cell_type": "code",
      "source": [
        "def reinforcement_learning_maze(agent_position):\n",
        "    # Simplified logic: Move right if possible, else move down\n",
        "    if agent_position[0] < 2:  # If agent is not on the rightmost edge\n",
        "        return \"Move Right\"\n",
        "    else:\n",
        "        return \"Move Down\"\n",
        "\n",
        "# Testing our pseudo RL agent\n",
        "current_position = [1, 1]  # Representing a position in a 3x3 grid\n",
        "print(reinforcement_learning_maze(current_position))\n"
      ],
      "metadata": {
        "colab": {
          "base_uri": "https://localhost:8080/"
        },
        "id": "adFlykpjbwPl",
        "outputId": "ba74649b-cadb-4a1b-f3d9-c4684db7b0a2"
      },
      "execution_count": 8,
      "outputs": [
        {
          "output_type": "stream",
          "name": "stdout",
          "text": [
            "Move Right\n"
          ]
        }
      ]
    },
    {
      "cell_type": "markdown",
      "source": [
        "# 🎳 Applications of AI\n"
      ],
      "metadata": {
        "id": "PBSd9RKVb_4Q"
      }
    },
    {
      "cell_type": "markdown",
      "source": [
        "# Natural Language Processing (NLP)\n",
        "\n",
        "NLP enables machines to understand, interpret, and produce human language. From chatbots to machine translation, NLP has a wide array of applications.\n",
        "\n",
        "**Example:** A simple sentiment analyzer. Given a sentence, this tool can tell us whether the sentiment is positive, negative, or neutral."
      ],
      "metadata": {
        "id": "YVWsCKAocSp-"
      }
    },
    {
      "cell_type": "code",
      "source": [
        "def sentiment_analysis(sentence):\n",
        "    # Simplified logic for demonstration\n",
        "    positive_words = ['love', 'awesome', 'good', 'like']\n",
        "    negative_words = ['hate', 'awful', 'bad', 'dislike']\n",
        "\n",
        "    pos_count = sum(1 for word in sentence.split() if word in positive_words)\n",
        "    neg_count = sum(1 for word in sentence.split() if word in negative_words)\n",
        "\n",
        "    if pos_count > neg_count:\n",
        "        return \"Positive Sentiment\"\n",
        "    elif neg_count > pos_count:\n",
        "        return \"Negative Sentiment\"\n",
        "    else:\n",
        "        return \"Neutral Sentiment\"\n",
        "\n",
        "# Testing our sentiment analyzer\n",
        "sentence = \"I love this product, it's awesome!\"\n",
        "print(sentiment_analysis(sentence))\n"
      ],
      "metadata": {
        "colab": {
          "base_uri": "https://localhost:8080/"
        },
        "id": "ulzeGIKncaz9",
        "outputId": "e40146c8-117b-4788-9bba-9516807522a8"
      },
      "execution_count": 9,
      "outputs": [
        {
          "output_type": "stream",
          "name": "stdout",
          "text": [
            "Positive Sentiment\n"
          ]
        }
      ]
    },
    {
      "cell_type": "markdown",
      "source": [
        "Output: Positive Sentiment"
      ],
      "metadata": {
        "id": "zjdTfJEvceis"
      }
    },
    {
      "cell_type": "markdown",
      "source": [
        "# Computer Vision\n",
        "\n",
        "Computer Vision provides machines the ability to process and make decisions based on visual data. It's used in facial recognition, object detection, and much more.\n",
        "\n",
        "\n",
        "**Example:** Detecting the presence of an object in an image."
      ],
      "metadata": {
        "id": "z7nV518lchjy"
      }
    },
    {
      "cell_type": "code",
      "source": [
        "def object_detection(image_data):\n",
        "    # Simplified logic: if the first pixel is white (255), assume it's an object\n",
        "    if image_data[0] == 255:\n",
        "        return \"Object Detected\"\n",
        "    else:\n",
        "        return \"No Object Detected\"\n",
        "\n",
        "# Testing our object detector\n",
        "image = [255, 0, 0, 0]  # Represents a basic image with an object on the top-left corner\n",
        "print(object_detection(image))\n"
      ],
      "metadata": {
        "colab": {
          "base_uri": "https://localhost:8080/"
        },
        "id": "G1mY5Qk6cnhX",
        "outputId": "e45b94b9-3694-4296-851d-3643f4215a2b"
      },
      "execution_count": 10,
      "outputs": [
        {
          "output_type": "stream",
          "name": "stdout",
          "text": [
            "Object Detected\n"
          ]
        }
      ]
    },
    {
      "cell_type": "markdown",
      "source": [
        "Output: Object Detected"
      ],
      "metadata": {
        "id": "0_CVcAXBctD-"
      }
    },
    {
      "cell_type": "markdown",
      "source": [
        "# Gaming\n",
        "\n",
        "AI can simulate human-like opponents, solve puzzles, and even design game levels. Games like Chess or Go have AI opponents that challenge even the top human players.\n",
        "\n",
        "\n",
        "**Example:** Predicting the next move in a Tic Tac Toe game."
      ],
      "metadata": {
        "id": "9G5q7XWfcvjP"
      }
    },
    {
      "cell_type": "code",
      "source": [
        "def tic_tac_toe_next_move(board):\n",
        "    # Simplified logic: Place 'X' in the first available slot\n",
        "    for i in range(3):\n",
        "        for j in range(3):\n",
        "            if board[i][j] == '-':\n",
        "                return f\"Place 'X' at position ({i}, {j})\"\n",
        "\n",
        "# Testing our game AI\n",
        "game_board = [['X', 'O', '-'], ['-', 'O', 'X'], ['X', '-', '-']]\n",
        "print(tic_tac_toe_next_move(game_board))\n"
      ],
      "metadata": {
        "colab": {
          "base_uri": "https://localhost:8080/"
        },
        "id": "OAQ6SxW3c1WG",
        "outputId": "cb50e5a9-8493-488a-e79d-67b4a820cd0d"
      },
      "execution_count": 11,
      "outputs": [
        {
          "output_type": "stream",
          "name": "stdout",
          "text": [
            "Place 'X' at position (0, 2)\n"
          ]
        }
      ]
    },
    {
      "cell_type": "markdown",
      "source": [
        "Output: Place 'X' at position (0, 2)"
      ],
      "metadata": {
        "id": "ks6drKO7c4dE"
      }
    },
    {
      "cell_type": "markdown",
      "source": [
        "# Medical Diagnosis\n",
        "\n",
        "AI can be used to analyze medical images, predict patient risk, and even suggest treatments.\n",
        "\n",
        "\n",
        "**Example:** Identifying a disease based on symptoms."
      ],
      "metadata": {
        "id": "Myq-fuiQc7AY"
      }
    },
    {
      "cell_type": "code",
      "source": [
        "def diagnose_disease(symptoms):\n",
        "    # Simplified logic for demonstration\n",
        "    if 'cough' in symptoms and 'fever' in symptoms:\n",
        "        return \"Possible Flu\"\n",
        "    elif 'headache' in symptoms:\n",
        "        return \"Possible Migraine\"\n",
        "    else:\n",
        "        return \"Disease not recognized\"\n",
        "\n",
        "# Testing our diagnosis function\n",
        "patient_symptoms = ['cough', 'fever', 'sore throat']\n",
        "print(diagnose_disease(patient_symptoms))\n"
      ],
      "metadata": {
        "colab": {
          "base_uri": "https://localhost:8080/"
        },
        "id": "ZbKjavSvdxjU",
        "outputId": "0288f0b1-e62f-4271-c38f-f0be42eb13bd"
      },
      "execution_count": 12,
      "outputs": [
        {
          "output_type": "stream",
          "name": "stdout",
          "text": [
            "Possible Flu\n"
          ]
        }
      ]
    },
    {
      "cell_type": "markdown",
      "source": [
        "Output: Possible Flu"
      ],
      "metadata": {
        "id": "YVhXrcoMd07O"
      }
    },
    {
      "cell_type": "markdown",
      "source": [
        "These are simple yet demonstrative examples. With the right dataset and real algorithms, these applications can achieve remarkable accuracy."
      ],
      "metadata": {
        "id": "fzeQiuNJd3rK"
      }
    },
    {
      "cell_type": "markdown",
      "source": [
        "# 🔣 Advantages and Limitations of AI\n"
      ],
      "metadata": {
        "id": "1GtdHa3UeCBk"
      }
    },
    {
      "cell_type": "markdown",
      "source": [
        "# **Advantages:**\n",
        "\n",
        "**1. Speed in Data Processing**\n",
        "\n",
        "Artificial Intelligence algorithms, especially on modern hardware, can process vast amounts of data at speeds far surpassing human capability. This speed is especially beneficial in sectors where real-time processing is essential, such as stock trading or medical diagnostics.\n",
        "\n",
        "**Example:**\n",
        "Comparing the time taken to process 1 million data points."
      ],
      "metadata": {
        "id": "GbqK6f-ceV3R"
      }
    },
    {
      "cell_type": "code",
      "source": [
        "import time\n",
        "import random\n",
        "\n",
        "data = [random.random() for _ in range(1000000)]\n",
        "\n",
        "# Processing data without AI\n",
        "start_time = time.time()\n",
        "processed_data = [item * 2 for item in data]\n",
        "end_time = time.time()\n",
        "print(f\"Time taken without AI: {end_time - start_time} seconds\")\n",
        "\n",
        "# Processing data with a hypothetical AI algorithm (just a representation, not real AI)\n",
        "start_time = time.time()\n",
        "# processed_data = AI_algorithm(data)\n",
        "end_time = time.time()\n",
        "# print(f\"Time taken with AI: {end_time - start_time} seconds\")\n"
      ],
      "metadata": {
        "colab": {
          "base_uri": "https://localhost:8080/"
        },
        "id": "LnX7hAtMehg4",
        "outputId": "f7294028-6ab6-4d47-c218-faf8e868d339"
      },
      "execution_count": 13,
      "outputs": [
        {
          "output_type": "stream",
          "name": "stdout",
          "text": [
            "Time taken without AI: 0.04092550277709961 seconds\n"
          ]
        }
      ]
    },
    {
      "cell_type": "markdown",
      "source": [
        "**2. Automation**\n",
        "\n",
        "AI enables automation of repetitive tasks, leading to increased efficiency and freeing up humans for more complex tasks.\n",
        "\n",
        "**Example:**\n",
        "Automating email categorization using AI."
      ],
      "metadata": {
        "id": "rEk8_dfcelVh"
      }
    },
    {
      "cell_type": "code",
      "source": [
        "def categorize_email(subject):\n",
        "    if \"invoice\" in subject or \"payment\" in subject:\n",
        "        return \"Finance\"\n",
        "    elif \"meeting\" in subject:\n",
        "        return \"Calendar\"\n",
        "    else:\n",
        "        return \"General\"\n",
        "\n",
        "subject = \"Meeting with client tomorrow\"\n",
        "print(f\"Email category: {categorize_email(subject)}\")\n"
      ],
      "metadata": {
        "colab": {
          "base_uri": "https://localhost:8080/"
        },
        "id": "_zbxxq2jeqIv",
        "outputId": "4a736984-6b19-4e55-84d8-531f4bf38946"
      },
      "execution_count": 14,
      "outputs": [
        {
          "output_type": "stream",
          "name": "stdout",
          "text": [
            "Email category: General\n"
          ]
        }
      ]
    },
    {
      "cell_type": "markdown",
      "source": [
        "Output: Email category: Calendar"
      ],
      "metadata": {
        "id": "NTR1onFbevxI"
      }
    },
    {
      "cell_type": "markdown",
      "source": [
        "**3. Error Reduction**\n",
        "AI, when trained properly, reduces human errors. It's especially beneficial in areas where precision is crucial, like space exploration.\n",
        "\n",
        "\n",
        "**4. Capability to Work with Large Data Sets**\n",
        "Big Data is a growing field, and AI's ability to process, analyze, and make predictions from massive datasets is unparalleled."
      ],
      "metadata": {
        "id": "TZvLm-_GeygI"
      }
    },
    {
      "cell_type": "markdown",
      "source": [
        "# **Limitations:**\n",
        "\n",
        "**1. Lack of Emotional Intelligence**\n",
        "While AI can simulate chat responses and even emotions based on algorithms, it lacks genuine emotional intelligence. This makes it challenging to use in situations requiring empathy or moral judgments.\n",
        "\n",
        "\n",
        "**2. Can Be Expensive**\n",
        "The initial setup, training, and maintenance of AI systems can be costly, especially for complex models requiring high computational power or vast amounts of data.\n",
        "\n",
        "\n",
        "**3. Acts as a \"Black Box\"**\n",
        "Many AI algorithms, especially deep learning models, act as a \"black box\", meaning it's hard to interpret how they derive specific outputs. This can be a significant concern in sectors like healthcare or finance where understanding decision-making processes is crucial.\n",
        "\n",
        "\n",
        "**Example:**\n",
        "Imagine using a neural network for a medical diagnosis. While the network might correctly identify a disease with 99% accuracy, if it makes an error, doctors might have a hard time understanding why, especially if the model is not interpretable.\n",
        "\n",
        "\n",
        "These advantages and limitations showcase the promise and challenges AI brings. It's essential to approach AI with an understanding of what it can and can't do, and where human intervention remains invaluable."
      ],
      "metadata": {
        "id": "eeqxo3ele4uE"
      }
    },
    {
      "cell_type": "markdown",
      "source": [
        "# 💼 Popular AI Algorithms\n",
        "\n",
        "# **1. Decision Trees**\n",
        "Overview:\n",
        "Decision Trees are versatile algorithms used both for classification and regression tasks. The algorithm makes decisions based on asking a series of questions.\n",
        "\n",
        "Example:\n",
        "Let's use a simple decision tree to determine if someone will play tennis based on the weather.\n",
        "\n",
        "Features:\n",
        "\n",
        "Outlook: Sunny, Overcast, Rainy\n",
        "Wind: Strong, Weak\n",
        "\n",
        "\n"
      ],
      "metadata": {
        "id": "Qe62IigkfWp-"
      }
    },
    {
      "cell_type": "code",
      "source": [
        "from sklearn.tree import DecisionTreeClassifier\n",
        "\n",
        "# Sample Data: 0 for Sunny, 1 for Overcast, 2 for Rainy; 0 for Weak Wind, 1 for Strong Wind\n",
        "X = [[0, 1], [1, 0], [2, 0], [0, 0]]\n",
        "y = [0, 1, 1, 0]  # 0 for No, 1 for Yes\n",
        "\n",
        "# Train a decision tree classifier\n",
        "clf = DecisionTreeClassifier()\n",
        "clf.fit(X, y)\n",
        "\n",
        "# Predict if tennis will be played on a Sunny day with Strong wind\n",
        "prediction = clf.predict([[0, 1]])\n",
        "print(\"Will play tennis?\" if prediction[0] == 1 else \"Won't play tennis!\")\n"
      ],
      "metadata": {
        "colab": {
          "base_uri": "https://localhost:8080/"
        },
        "id": "nwP0Q5sFfnqN",
        "outputId": "8c7df520-935d-47bf-dab9-9b2e3d234fab"
      },
      "execution_count": 15,
      "outputs": [
        {
          "output_type": "stream",
          "name": "stdout",
          "text": [
            "Won't play tennis!\n"
          ]
        }
      ]
    },
    {
      "cell_type": "markdown",
      "source": [
        "# **2. Neural Networks**\n",
        "Overview:\n",
        "Neural Networks are algorithms inspired by the structure of the human brain. They are particularly useful for pattern recognition tasks, like image and voice recognition.\n",
        "\n",
        "Example:\n",
        "We'll design a basic perceptron, the simplest form of a neural network, to simulate an AND gate."
      ],
      "metadata": {
        "id": "A7iQ0jnBftZI"
      }
    },
    {
      "cell_type": "code",
      "source": [
        "import numpy as np\n",
        "\n",
        "def sigmoid(x):\n",
        "    return 1 / (1 + np.exp(-x))\n",
        "\n",
        "# AND gate data\n",
        "inputs = np.array([[0, 0], [0, 1], [1, 0], [1, 1]])\n",
        "expected_output = np.array([[0], [0], [0], [1]])\n",
        "\n",
        "epochs = 10000\n",
        "lr = 0.1\n",
        "inputLayerNeurons, outputLayerNeurons = 2, 1\n",
        "\n",
        "# Random weights and bias initialization\n",
        "weights = np.random.uniform(size=(inputLayerNeurons,outputLayerNeurons))\n",
        "biases = np.random.uniform(size=(1,outputLayerNeurons))\n",
        "\n",
        "for _ in range(epochs):\n",
        "    linear_output = np.dot(inputs, weights) + biases\n",
        "    y_pred = sigmoid(linear_output)\n",
        "    error = expected_output - y_pred\n",
        "    d_y_pred = error * sigmoid(y_pred)*(1-sigmoid(y_pred))\n",
        "    weights += np.dot(inputs.T, d_y_pred) * lr\n",
        "    biases += np.sum(d_y_pred, axis=0) * lr\n",
        "\n",
        "print(y_pred)  # Closest to 0 is 0, closest to 1 is 1\n"
      ],
      "metadata": {
        "colab": {
          "base_uri": "https://localhost:8080/"
        },
        "id": "gvy-1lTwfxL7",
        "outputId": "754ab4fc-527a-4c54-8f09-b15332e7d5c6"
      },
      "execution_count": 16,
      "outputs": [
        {
          "output_type": "stream",
          "name": "stdout",
          "text": [
            "[[1.51998358e-05]\n",
            " [2.00321042e-02]\n",
            " [2.00320969e-02]\n",
            " [9.64900670e-01]]\n"
          ]
        }
      ]
    },
    {
      "cell_type": "markdown",
      "source": [
        "# **3. Naive Bayes**\n",
        "Overview:\n",
        "Naive Bayes is a probabilistic classifier based on Bayes' theorem with an assumption of independence among predictors. It's particularly useful for classification tasks, and is widely used in Natural Language Processing (NLP).\n",
        "\n",
        "Example:\n",
        "Classifying whether a given text is spam or not."
      ],
      "metadata": {
        "id": "xJRXjrKef2WW"
      }
    },
    {
      "cell_type": "code",
      "source": [
        "from sklearn.feature_extraction.text import CountVectorizer\n",
        "from sklearn.naive_bayes import MultinomialNB\n",
        "\n",
        "texts = [\"Free money\", \"Hey there\", \"Limited time offer\", \"How have you been?\", \"Win cash now\"]\n",
        "labels = [1, 0, 1, 0, 1]  # 1 for Spam, 0 for Not Spam\n",
        "\n",
        "vectorizer = CountVectorizer()\n",
        "X = vectorizer.fit_transform(texts)\n",
        "clf = MultinomialNB().fit(X, labels)\n",
        "\n",
        "sample = [\"How to win money\"]\n",
        "X_sample = vectorizer.transform(sample)\n",
        "prediction = clf.predict(X_sample)\n",
        "print(\"Spam\" if prediction[0] == 1 else \"Not Spam\")\n"
      ],
      "metadata": {
        "colab": {
          "base_uri": "https://localhost:8080/"
        },
        "id": "NjENl5H-f5gK",
        "outputId": "f1717d8d-d6c2-469d-ff39-52bd5800e9e4"
      },
      "execution_count": 17,
      "outputs": [
        {
          "output_type": "stream",
          "name": "stdout",
          "text": [
            "Spam\n"
          ]
        }
      ]
    },
    {
      "cell_type": "markdown",
      "source": [
        "These algorithms provide just a glimpse into the vast world of AI algorithms. Each of them has its own strengths and is suited for particular kinds of tasks."
      ],
      "metadata": {
        "id": "gccAwcOyf8se"
      }
    },
    {
      "cell_type": "markdown",
      "source": [
        "# 🦸 Future of AI\n",
        "\n",
        "\n",
        "Discussing trends like quantum computing, AI in healthcare, ethical considerations, etc.\n",
        "\n",
        "Artificial Intelligence, as a dynamic and ever-evolving domain, continues to shape the future in unimaginable ways. Here's a look at some of the trends and areas where AI is set to make a significant impact:\n",
        "\n",
        "# **1. Quantum Computing**\n",
        "Overview:\n",
        "Quantum Computing leverages the principles of quantum mechanics to process vast amounts of data at unprecedented speeds. Integrating Quantum Computing with AI has the potential to solve complex problems, currently deemed unsolvable.\n",
        "\n",
        "Example & Significance:\n",
        "A Quantum Neural Network (QNN) could solve optimization problems, simulate large molecules for drug discovery, and enhance machine learning models in terms of speed and capability. With Google's announcement of achieving \"quantum supremacy,\" the integration of quantum computing with AI is closer than ever.\n",
        "\n",
        "# **2. AI in Healthcare**\n",
        "Overview:\n",
        "AI in healthcare is revolutionizing the domain by offering predictive analysis, improved diagnosis, and personalized patient care.\n",
        "\n",
        "Example & Significance:\n",
        "From interpreting medical images to predicting patient illnesses based on their medical history, AI has the potential to assist doctors in diagnosis and treatment. Moreover, wearable devices integrated with AI can monitor vital stats in real-time, enabling proactive healthcare interventions.\n",
        "\n",
        "# **3. Ethical Considerations**\n",
        "Overview:\n",
        "With the increasing influence of AI in daily lives, ethical considerations become paramount. Issues related to bias in algorithms, transparency, decision-making, and the right to privacy are under intense scrutiny.\n",
        "\n",
        "Example & Significance:\n",
        "Consider facial recognition technology. While it can enhance security, it also raises concerns regarding privacy, data misuse, and potential biases in recognition. Therefore, ethical guidelines and regulations are becoming increasingly important to ensure that AI technologies are developed and used responsibly.\n",
        "\n",
        "# **4. AI in Automation**\n",
        "Overview:\n",
        "While AI-driven automation promises efficiency and productivity, it also brings forth challenges related to job displacement and the need for upskilling.\n",
        "\n",
        "Example & Significance:\n",
        "Robotic Process Automation (RPA), combined with AI, can handle repetitive tasks in industries like finance, thereby increasing efficiency. However, this also means that there's a need to retrain and upskill workers for new roles.\n",
        "\n",
        "# **5. General AI**\n",
        "Overview:\n",
        "Currently, most AI solutions are Narrow or Weak AI, designed for specific tasks. The goal, however, is to achieve General AI – machines that can perform any intellectual task that a human can.\n",
        "\n",
        "Example & Significance:\n",
        "Imagine an AI that can play chess, diagnose diseases, write essays, and more, all without being specifically trained for it. Achieving this would be a monumental leap, marking a significant evolution in AI capabilities.\n",
        "\n",
        "The future of AI is undeniably bright, full of challenges and opportunities. Ensuring that its growth is directed towards the benefit of humanity will be the key."
      ],
      "metadata": {
        "id": "Lpvsiww-gFgC"
      }
    }
  ]
}